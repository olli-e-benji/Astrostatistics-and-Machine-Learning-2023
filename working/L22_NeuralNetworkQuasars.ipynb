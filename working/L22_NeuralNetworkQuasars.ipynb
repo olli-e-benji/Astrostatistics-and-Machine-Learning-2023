{
 "cells": [
  {
   "attachments": {},
   "cell_type": "markdown",
   "metadata": {},
   "source": [
    "# Neural Network: Galaxy vs Quasar classification"
   ]
  },
  {
   "cell_type": "markdown",
   "metadata": {},
   "source": [
    "### WIP - Unfinished!!"
   ]
  },
  {
   "cell_type": "markdown",
   "metadata": {},
   "source": [
    "## Time to get your hands dirty. Galaxies vs quasars with neural networks.\n",
    "\n",
    "Let's go back to our galaxy vs quasar data we've used in a previous exercise. \n",
    "\n",
    "1. Read in SDSS galaxy color data from `solutions/galaxyquasar.csv`. Create arrays for the $(u-g)$, $(g-r)$, $(r-i)$, and $(i-z)$ colors. Also create an array with the class labels where galaxy=$0$ and quasar=$1$. \n",
    "\n",
    "2. Now we're going to fit a neural network classifier. First, scale your data appropriately and do a 30% train/test split.\n",
    "\n",
    "3. Now train the classifier. Use one the package among those we've seen. These include Tensorflow via keras, pytorch, and the [multilayer perceptron classifier](sklearn.neural_network.MLPClassifier) implemented in scikit-learn. My solution uses the latter, but this is an opportunity to pick the one you're most interested in learning. \n",
    "\n",
    "3. Start from a network architecture with a single hidden layer with 5 neurons, using the `adam` solver, the `relu` activation function, and a learninig rate of `0.001`. Plot the resulting ROC curve. \n",
    "\n",
    "4. Now let's optimize the hyperparameters of your network. Explore different hyperparameters and see what fits the data best.  Do your best now to optimize the network architecture. Be creative!\n",
    "\n",
    "5. Is your best result comparable with the simpler classifiers we've seen before? Do we need deep learning here? If yes, which features are captured best?\n",
    "\n",
    "\n",
    "A few tips:\n",
    "\n",
    "- In scikit-learn, remember that you can utilize all availables cores on your machine with `n_jobs=-1`. Print out the classification score for the training data, and the best parameters obtained by the cross validation.\n",
    "- If it takes too long, run the hyperparameter optimization on a subset of the training set. Then retrain the full network using the best hyperparameters only.\n",
    "- On cross validation, for scikit learn we've seen how to use `GridSearchCV` already. For Tensorflow, there's a really cool tool called [Tensorboard](https://www.tensorflow.org/tensorboard)"
   ]
  },
  {
   "cell_type": "code",
   "execution_count": 1,
   "metadata": {},
   "outputs": [],
   "source": [
    "import numpy as np\n",
    "import matplotlib.pyplot as plt\n",
    "\n",
    "from sklearn.model_selection import train_test_split, cross_val_predict\n",
    "from sklearn.metrics import (precision_recall_curve, roc_curve, confusion_matrix, ConfusionMatrixDisplay, accuracy_score)\n",
    "from sklearn.neighbors import KernelDensity\n",
    "\n",
    "from astropy.io import ascii\n",
    "from tqdm import tqdm\n",
    "\n",
    "plt.rcParams['figure.figsize'] = [8, 8]\n",
    "plt.rcParams['font.size'] = 12"
   ]
  },
  {
   "cell_type": "code",
   "execution_count": 2,
   "metadata": {},
   "outputs": [],
   "source": [
    "#keras.layers.Dropout(0.5)\n",
    "\n",
    "#drops (amount) of neurons in order to prevent overfitting -> Force the network to explore different regions of the parameter space!!\n",
    "\n",
    "#Tensorboard check it out!!"
   ]
  },
  {
   "cell_type": "code",
   "execution_count": 3,
   "metadata": {},
   "outputs": [],
   "source": [
    "data = ascii.read('../solutions/galaxyquasar.csv', header_start=0)"
   ]
  },
  {
   "cell_type": "code",
   "execution_count": 4,
   "metadata": {},
   "outputs": [
    {
     "data": {
      "text/html": [
       "<div><i>Table length=50000</i>\n",
       "<table id=\"table140629192257248\" class=\"table-striped table-bordered table-condensed\">\n",
       "<thead><tr><th>u</th><th>g</th><th>r</th><th>i</th><th>z</th><th>class</th><th>z1</th><th>zerr</th></tr></thead>\n",
       "<thead><tr><th>float64</th><th>float64</th><th>float64</th><th>float64</th><th>float64</th><th>str6</th><th>float64</th><th>float64</th></tr></thead>\n",
       "<tr><td>18.97213</td><td>18.53676</td><td>18.5828</td><td>18.34936</td><td>18.29215</td><td>QSO</td><td>0.5228189</td><td>0.0001547483</td></tr>\n",
       "<tr><td>19.24592</td><td>17.47646</td><td>16.47817</td><td>16.04472</td><td>15.68851</td><td>GALAXY</td><td>0.1228459</td><td>2.816076e-05</td></tr>\n",
       "<tr><td>19.43536</td><td>17.70268</td><td>16.91565</td><td>16.58327</td><td>16.39128</td><td>GALAXY</td><td>0.0</td><td>0.0</td></tr>\n",
       "<tr><td>19.31626</td><td>18.18312</td><td>17.39591</td><td>16.94549</td><td>16.65395</td><td>GALAXY</td><td>0.1474355</td><td>9.310701e-06</td></tr>\n",
       "<tr><td>19.28828</td><td>19.11188</td><td>18.88937</td><td>18.80013</td><td>18.49183</td><td>QSO</td><td>2.011455</td><td>0.0006307968</td></tr>\n",
       "<tr><td>17.60994</td><td>15.90911</td><td>15.0209</td><td>14.54955</td><td>14.19971</td><td>GALAXY</td><td>0.04619161</td><td>1.022329e-05</td></tr>\n",
       "<tr><td>18.50014</td><td>17.42286</td><td>17.03657</td><td>16.76236</td><td>16.63258</td><td>GALAXY</td><td>0.0516851</td><td>6.667251e-06</td></tr>\n",
       "<tr><td>19.53253</td><td>19.49823</td><td>19.42254</td><td>19.07912</td><td>18.90426</td><td>QSO</td><td>1.88844</td><td>0.0005242734</td></tr>\n",
       "<tr><td>19.37014</td><td>17.94086</td><td>17.154</td><td>16.74367</td><td>16.42825</td><td>GALAXY</td><td>0.137445</td><td>1.284492e-05</td></tr>\n",
       "<tr><td>18.94777</td><td>16.99748</td><td>16.10991</td><td>15.71294</td><td>15.38205</td><td>GALAXY</td><td>0.05139576</td><td>1.215115e-05</td></tr>\n",
       "<tr><td>...</td><td>...</td><td>...</td><td>...</td><td>...</td><td>...</td><td>...</td><td>...</td></tr>\n",
       "<tr><td>19.33615</td><td>18.81487</td><td>18.86293</td><td>18.64392</td><td>18.61015</td><td>QSO</td><td>0.5589883</td><td>6.183711e-05</td></tr>\n",
       "<tr><td>19.50031</td><td>19.3412</td><td>19.27431</td><td>19.15679</td><td>19.37346</td><td>QSO</td><td>1.463176</td><td>0.0003432187</td></tr>\n",
       "<tr><td>19.27608</td><td>17.45983</td><td>16.60871</td><td>16.1888</td><td>15.86842</td><td>GALAXY</td><td>0.07116911</td><td>2.018075e-05</td></tr>\n",
       "<tr><td>16.8205</td><td>14.99753</td><td>14.18414</td><td>13.79698</td><td>13.51894</td><td>GALAXY</td><td>0.0291452</td><td>9.240287e-06</td></tr>\n",
       "<tr><td>19.33829</td><td>17.77267</td><td>16.95998</td><td>16.56725</td><td>16.25636</td><td>GALAXY</td><td>0.05180373</td><td>1.632631e-05</td></tr>\n",
       "<tr><td>19.37295</td><td>18.12382</td><td>17.39886</td><td>16.98503</td><td>16.70585</td><td>GALAXY</td><td>0.1130163</td><td>1.146054e-05</td></tr>\n",
       "<tr><td>18.52021</td><td>16.88262</td><td>16.0328</td><td>15.56884</td><td>15.22454</td><td>GALAXY</td><td>0.08506349</td><td>1.374457e-05</td></tr>\n",
       "<tr><td>18.62718</td><td>17.30876</td><td>16.87371</td><td>16.62399</td><td>16.42296</td><td>GALAXY</td><td>0.05442934</td><td>8.433598e-06</td></tr>\n",
       "<tr><td>19.5514</td><td>18.27711</td><td>17.62101</td><td>17.21947</td><td>17.03347</td><td>GALAXY</td><td>0.1125709</td><td>9.286238e-06</td></tr>\n",
       "<tr><td>18.80772</td><td>17.75751</td><td>17.405</td><td>17.2165</td><td>17.12295</td><td>GALAXY</td><td>0.04365238</td><td>7.415751e-06</td></tr>\n",
       "</table></div>"
      ],
      "text/plain": [
       "<Table length=50000>\n",
       "   u        g        r        i        z     class      z1         zerr    \n",
       "float64  float64  float64  float64  float64   str6   float64     float64   \n",
       "-------- -------- -------- -------- -------- ------ ---------- ------------\n",
       "18.97213 18.53676  18.5828 18.34936 18.29215    QSO  0.5228189 0.0001547483\n",
       "19.24592 17.47646 16.47817 16.04472 15.68851 GALAXY  0.1228459 2.816076e-05\n",
       "19.43536 17.70268 16.91565 16.58327 16.39128 GALAXY        0.0          0.0\n",
       "19.31626 18.18312 17.39591 16.94549 16.65395 GALAXY  0.1474355 9.310701e-06\n",
       "19.28828 19.11188 18.88937 18.80013 18.49183    QSO   2.011455 0.0006307968\n",
       "17.60994 15.90911  15.0209 14.54955 14.19971 GALAXY 0.04619161 1.022329e-05\n",
       "18.50014 17.42286 17.03657 16.76236 16.63258 GALAXY  0.0516851 6.667251e-06\n",
       "19.53253 19.49823 19.42254 19.07912 18.90426    QSO    1.88844 0.0005242734\n",
       "19.37014 17.94086   17.154 16.74367 16.42825 GALAXY   0.137445 1.284492e-05\n",
       "18.94777 16.99748 16.10991 15.71294 15.38205 GALAXY 0.05139576 1.215115e-05\n",
       "     ...      ...      ...      ...      ...    ...        ...          ...\n",
       "19.33615 18.81487 18.86293 18.64392 18.61015    QSO  0.5589883 6.183711e-05\n",
       "19.50031  19.3412 19.27431 19.15679 19.37346    QSO   1.463176 0.0003432187\n",
       "19.27608 17.45983 16.60871  16.1888 15.86842 GALAXY 0.07116911 2.018075e-05\n",
       " 16.8205 14.99753 14.18414 13.79698 13.51894 GALAXY  0.0291452 9.240287e-06\n",
       "19.33829 17.77267 16.95998 16.56725 16.25636 GALAXY 0.05180373 1.632631e-05\n",
       "19.37295 18.12382 17.39886 16.98503 16.70585 GALAXY  0.1130163 1.146054e-05\n",
       "18.52021 16.88262  16.0328 15.56884 15.22454 GALAXY 0.08506349 1.374457e-05\n",
       "18.62718 17.30876 16.87371 16.62399 16.42296 GALAXY 0.05442934 8.433598e-06\n",
       " 19.5514 18.27711 17.62101 17.21947 17.03347 GALAXY  0.1125709 9.286238e-06\n",
       "18.80772 17.75751   17.405  17.2165 17.12295 GALAXY 0.04365238 7.415751e-06"
      ]
     },
     "execution_count": 4,
     "metadata": {},
     "output_type": "execute_result"
    }
   ],
   "source": [
    "data"
   ]
  },
  {
   "cell_type": "code",
   "execution_count": 5,
   "metadata": {},
   "outputs": [],
   "source": [
    "u_g = (data['u'] - data['g'])[:, None]\n",
    "g_r = (data['g'] - data['r'])[:, None]\n",
    "r_i = (data['r'] - data['i'])[:, None]\n",
    "i_z = (data['i'] - data['z'])[:, None]\n",
    "\n",
    "#Quasar = 1, Galaxy = 0\n",
    "label = np.where(data['class'] == 'QSO', 1, 0)"
   ]
  },
  {
   "attachments": {},
   "cell_type": "markdown",
   "metadata": {},
   "source": [
    "### NaN checker!\n",
    "\n",
    "for i in [u_g, g_r, r_i, i_z]:\n",
    "    cast = i.copy()\n",
    "    print(cast.shape)\n",
    "    cast = cast[~np.isnan(cast)]\n",
    "    print(cast.shape)\n"
   ]
  },
  {
   "cell_type": "code",
   "execution_count": 13,
   "metadata": {},
   "outputs": [],
   "source": [
    "tofit = np.column_stack([u_g, g_r, r_i, i_z])\n",
    "\n",
    "\n",
    "#30% train/test split\n",
    "size = 0.3\n",
    "\n",
    "#Splicing into training and test subsets\n",
    "xtest, xtrain, ytest, ytrain = train_test_split(tofit, label, test_size=size)"
   ]
  },
  {
   "cell_type": "code",
   "execution_count": null,
   "metadata": {},
   "outputs": [],
   "source": []
  }
 ],
 "metadata": {
  "kernelspec": {
   "display_name": ".venv",
   "language": "python",
   "name": "python3"
  },
  "language_info": {
   "codemirror_mode": {
    "name": "ipython",
    "version": 3
   },
   "file_extension": ".py",
   "mimetype": "text/x-python",
   "name": "python",
   "nbconvert_exporter": "python",
   "pygments_lexer": "ipython3",
   "version": "3.9.7"
  },
  "orig_nbformat": 4
 },
 "nbformat": 4,
 "nbformat_minor": 2
}
