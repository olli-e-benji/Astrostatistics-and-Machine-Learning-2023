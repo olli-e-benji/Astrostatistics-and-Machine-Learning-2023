{
 "cells": [
  {
   "attachments": {},
   "cell_type": "markdown",
   "metadata": {},
   "source": [
    "# Galaxy vs Quasar"
   ]
  },
  {
   "attachments": {},
   "cell_type": "markdown",
   "metadata": {},
   "source": [
    "### WIP - Unfinished!!"
   ]
  },
  {
   "cell_type": "code",
   "execution_count": 52,
   "metadata": {},
   "outputs": [],
   "source": [
    "import numpy as np\n",
    "import matplotlib.pyplot as plt\n",
    "\n",
    "import sklearn\n",
    "from sklearn.naive_bayes import GaussianNB\n",
    "from sklearn.model_selection import train_test_split\n",
    "from sklearn.metrics import (precision_recall_curve, roc_curve)\n",
    "\n",
    "from astropy.io import ascii\n",
    "\n",
    "plt.rcParams['figure.figsize'] = [8, 8]\n",
    "plt.rcParams['font.size'] = 12\n",
    "plt.rcParams['figure.dpi'] = 500"
   ]
  },
  {
   "cell_type": "code",
   "execution_count": 54,
   "metadata": {},
   "outputs": [],
   "source": [
    "data = ascii.read('../solutions/galaxyquasar.csv', header_start=0)"
   ]
  },
  {
   "cell_type": "code",
   "execution_count": 55,
   "metadata": {},
   "outputs": [
    {
     "data": {
      "text/html": [
       "<div><i>Table length=50000</i>\n",
       "<table id=\"table140383996161904\" class=\"table-striped table-bordered table-condensed\">\n",
       "<thead><tr><th>u</th><th>g</th><th>r</th><th>i</th><th>z</th><th>class</th><th>z1</th><th>zerr</th></tr></thead>\n",
       "<thead><tr><th>float64</th><th>float64</th><th>float64</th><th>float64</th><th>float64</th><th>str6</th><th>float64</th><th>float64</th></tr></thead>\n",
       "<tr><td>18.97213</td><td>18.53676</td><td>18.5828</td><td>18.34936</td><td>18.29215</td><td>QSO</td><td>0.5228189</td><td>0.0001547483</td></tr>\n",
       "<tr><td>19.24592</td><td>17.47646</td><td>16.47817</td><td>16.04472</td><td>15.68851</td><td>GALAXY</td><td>0.1228459</td><td>2.816076e-05</td></tr>\n",
       "<tr><td>19.43536</td><td>17.70268</td><td>16.91565</td><td>16.58327</td><td>16.39128</td><td>GALAXY</td><td>0.0</td><td>0.0</td></tr>\n",
       "<tr><td>19.31626</td><td>18.18312</td><td>17.39591</td><td>16.94549</td><td>16.65395</td><td>GALAXY</td><td>0.1474355</td><td>9.310701e-06</td></tr>\n",
       "<tr><td>19.28828</td><td>19.11188</td><td>18.88937</td><td>18.80013</td><td>18.49183</td><td>QSO</td><td>2.011455</td><td>0.0006307968</td></tr>\n",
       "<tr><td>17.60994</td><td>15.90911</td><td>15.0209</td><td>14.54955</td><td>14.19971</td><td>GALAXY</td><td>0.04619161</td><td>1.022329e-05</td></tr>\n",
       "<tr><td>18.50014</td><td>17.42286</td><td>17.03657</td><td>16.76236</td><td>16.63258</td><td>GALAXY</td><td>0.0516851</td><td>6.667251e-06</td></tr>\n",
       "<tr><td>19.53253</td><td>19.49823</td><td>19.42254</td><td>19.07912</td><td>18.90426</td><td>QSO</td><td>1.88844</td><td>0.0005242734</td></tr>\n",
       "<tr><td>19.37014</td><td>17.94086</td><td>17.154</td><td>16.74367</td><td>16.42825</td><td>GALAXY</td><td>0.137445</td><td>1.284492e-05</td></tr>\n",
       "<tr><td>18.94777</td><td>16.99748</td><td>16.10991</td><td>15.71294</td><td>15.38205</td><td>GALAXY</td><td>0.05139576</td><td>1.215115e-05</td></tr>\n",
       "<tr><td>...</td><td>...</td><td>...</td><td>...</td><td>...</td><td>...</td><td>...</td><td>...</td></tr>\n",
       "<tr><td>19.33615</td><td>18.81487</td><td>18.86293</td><td>18.64392</td><td>18.61015</td><td>QSO</td><td>0.5589883</td><td>6.183711e-05</td></tr>\n",
       "<tr><td>19.50031</td><td>19.3412</td><td>19.27431</td><td>19.15679</td><td>19.37346</td><td>QSO</td><td>1.463176</td><td>0.0003432187</td></tr>\n",
       "<tr><td>19.27608</td><td>17.45983</td><td>16.60871</td><td>16.1888</td><td>15.86842</td><td>GALAXY</td><td>0.07116911</td><td>2.018075e-05</td></tr>\n",
       "<tr><td>16.8205</td><td>14.99753</td><td>14.18414</td><td>13.79698</td><td>13.51894</td><td>GALAXY</td><td>0.0291452</td><td>9.240287e-06</td></tr>\n",
       "<tr><td>19.33829</td><td>17.77267</td><td>16.95998</td><td>16.56725</td><td>16.25636</td><td>GALAXY</td><td>0.05180373</td><td>1.632631e-05</td></tr>\n",
       "<tr><td>19.37295</td><td>18.12382</td><td>17.39886</td><td>16.98503</td><td>16.70585</td><td>GALAXY</td><td>0.1130163</td><td>1.146054e-05</td></tr>\n",
       "<tr><td>18.52021</td><td>16.88262</td><td>16.0328</td><td>15.56884</td><td>15.22454</td><td>GALAXY</td><td>0.08506349</td><td>1.374457e-05</td></tr>\n",
       "<tr><td>18.62718</td><td>17.30876</td><td>16.87371</td><td>16.62399</td><td>16.42296</td><td>GALAXY</td><td>0.05442934</td><td>8.433598e-06</td></tr>\n",
       "<tr><td>19.5514</td><td>18.27711</td><td>17.62101</td><td>17.21947</td><td>17.03347</td><td>GALAXY</td><td>0.1125709</td><td>9.286238e-06</td></tr>\n",
       "<tr><td>18.80772</td><td>17.75751</td><td>17.405</td><td>17.2165</td><td>17.12295</td><td>GALAXY</td><td>0.04365238</td><td>7.415751e-06</td></tr>\n",
       "</table></div>"
      ],
      "text/plain": [
       "<Table length=50000>\n",
       "   u        g        r        i        z     class      z1         zerr    \n",
       "float64  float64  float64  float64  float64   str6   float64     float64   \n",
       "-------- -------- -------- -------- -------- ------ ---------- ------------\n",
       "18.97213 18.53676  18.5828 18.34936 18.29215    QSO  0.5228189 0.0001547483\n",
       "19.24592 17.47646 16.47817 16.04472 15.68851 GALAXY  0.1228459 2.816076e-05\n",
       "19.43536 17.70268 16.91565 16.58327 16.39128 GALAXY        0.0          0.0\n",
       "19.31626 18.18312 17.39591 16.94549 16.65395 GALAXY  0.1474355 9.310701e-06\n",
       "19.28828 19.11188 18.88937 18.80013 18.49183    QSO   2.011455 0.0006307968\n",
       "17.60994 15.90911  15.0209 14.54955 14.19971 GALAXY 0.04619161 1.022329e-05\n",
       "18.50014 17.42286 17.03657 16.76236 16.63258 GALAXY  0.0516851 6.667251e-06\n",
       "19.53253 19.49823 19.42254 19.07912 18.90426    QSO    1.88844 0.0005242734\n",
       "19.37014 17.94086   17.154 16.74367 16.42825 GALAXY   0.137445 1.284492e-05\n",
       "18.94777 16.99748 16.10991 15.71294 15.38205 GALAXY 0.05139576 1.215115e-05\n",
       "     ...      ...      ...      ...      ...    ...        ...          ...\n",
       "19.33615 18.81487 18.86293 18.64392 18.61015    QSO  0.5589883 6.183711e-05\n",
       "19.50031  19.3412 19.27431 19.15679 19.37346    QSO   1.463176 0.0003432187\n",
       "19.27608 17.45983 16.60871  16.1888 15.86842 GALAXY 0.07116911 2.018075e-05\n",
       " 16.8205 14.99753 14.18414 13.79698 13.51894 GALAXY  0.0291452 9.240287e-06\n",
       "19.33829 17.77267 16.95998 16.56725 16.25636 GALAXY 0.05180373 1.632631e-05\n",
       "19.37295 18.12382 17.39886 16.98503 16.70585 GALAXY  0.1130163 1.146054e-05\n",
       "18.52021 16.88262  16.0328 15.56884 15.22454 GALAXY 0.08506349 1.374457e-05\n",
       "18.62718 17.30876 16.87371 16.62399 16.42296 GALAXY 0.05442934 8.433598e-06\n",
       " 19.5514 18.27711 17.62101 17.21947 17.03347 GALAXY  0.1125709 9.286238e-06\n",
       "18.80772 17.75751   17.405  17.2165 17.12295 GALAXY 0.04365238 7.415751e-06"
      ]
     },
     "execution_count": 55,
     "metadata": {},
     "output_type": "execute_result"
    }
   ],
   "source": [
    "data"
   ]
  },
  {
   "cell_type": "code",
   "execution_count": 47,
   "metadata": {},
   "outputs": [],
   "source": [
    "u_g = data['u'] - data['g']\n",
    "g_r = data['g'] - data['r']\n",
    "r_i = data['r'] - data['i']\n",
    "i_z = data['i'] - data['z']"
   ]
  },
  {
   "cell_type": "code",
   "execution_count": 48,
   "metadata": {},
   "outputs": [],
   "source": [
    "kind = []\n",
    "\n",
    "for i in data['class']:\n",
    "    if i == 'QSO':  #Quasar Label\n",
    "        kind.append(1)\n",
    "    elif i == 'GALAXY':     #Galaxy label\n",
    "        kind.append(0)\n",
    "\n",
    "kind = np.array(kind)"
   ]
  },
  {
   "cell_type": "code",
   "execution_count": 56,
   "metadata": {},
   "outputs": [],
   "source": [
    "fast_kind = np.where(data['class'] == 'QSO', 1, 0)"
   ]
  },
  {
   "cell_type": "code",
   "execution_count": 60,
   "metadata": {},
   "outputs": [
    {
     "data": {
      "text/plain": [
       "array([1, 0, 0, ..., 0, 0, 0])"
      ]
     },
     "execution_count": 60,
     "metadata": {},
     "output_type": "execute_result"
    }
   ],
   "source": [
    "fast_kind"
   ]
  },
  {
   "cell_type": "code",
   "execution_count": 57,
   "metadata": {},
   "outputs": [
    {
     "data": {
      "text/plain": [
       "(50000,)"
      ]
     },
     "execution_count": 57,
     "metadata": {},
     "output_type": "execute_result"
    }
   ],
   "source": [
    "kind.shape"
   ]
  },
  {
   "cell_type": "code",
   "execution_count": 62,
   "metadata": {},
   "outputs": [
    {
     "ename": "ValueError",
     "evalue": "Expected 2D array, got 1D array instead:\narray=[ 1.47649  1.39221 -0.00397 ...  1.91808  1.76296  0.24518].\nReshape your data either using array.reshape(-1, 1) if your data has a single feature or array.reshape(1, -1) if it contains a single sample.",
     "output_type": "error",
     "traceback": [
      "\u001b[0;31m---------------------------------------------------------------------------\u001b[0m",
      "\u001b[0;31mValueError\u001b[0m                                Traceback (most recent call last)",
      "\u001b[1;32m/Users/oliverbenjaminrossi/Visual Studio/Università/Astrostatistics and Machine Learning/working/L19_ClassificationQuasarGalaxy.ipynb Cella 11\u001b[0m in \u001b[0;36m<cell line: 1>\u001b[0;34m()\u001b[0m\n\u001b[1;32m      <a href='vscode-notebook-cell:/Users/oliverbenjaminrossi/Visual%20Studio/Universit%C3%A0/Astrostatistics%20and%20Machine%20Learning/working/L19_ClassificationQuasarGalaxy.ipynb#X13sZmlsZQ%3D%3D?line=1'>2</a>\u001b[0m xtrain, xtest, ytrain, ytest \u001b[39m=\u001b[39m sklearn\u001b[39m.\u001b[39mmodel_selection\u001b[39m.\u001b[39mtrain_test_split(\n\u001b[1;32m      <a href='vscode-notebook-cell:/Users/oliverbenjaminrossi/Visual%20Studio/Universit%C3%A0/Astrostatistics%20and%20Machine%20Learning/working/L19_ClassificationQuasarGalaxy.ipynb#X13sZmlsZQ%3D%3D?line=2'>3</a>\u001b[0m     array, fast_kind, test_size \u001b[39m=\u001b[39m \u001b[39m0.75\u001b[39m) \n\u001b[1;32m      <a href='vscode-notebook-cell:/Users/oliverbenjaminrossi/Visual%20Studio/Universit%C3%A0/Astrostatistics%20and%20Machine%20Learning/working/L19_ClassificationQuasarGalaxy.ipynb#X13sZmlsZQ%3D%3D?line=4'>5</a>\u001b[0m classifier \u001b[39m=\u001b[39m GaussianNB()\n\u001b[0;32m----> <a href='vscode-notebook-cell:/Users/oliverbenjaminrossi/Visual%20Studio/Universit%C3%A0/Astrostatistics%20and%20Machine%20Learning/working/L19_ClassificationQuasarGalaxy.ipynb#X13sZmlsZQ%3D%3D?line=5'>6</a>\u001b[0m classifier\u001b[39m.\u001b[39;49mfit(xtrain, ytrain)\n",
      "File \u001b[0;32m/Library/Frameworks/Python.framework/Versions/3.9/lib/python3.9/site-packages/sklearn/naive_bayes.py:243\u001b[0m, in \u001b[0;36mGaussianNB.fit\u001b[0;34m(self, X, y, sample_weight)\u001b[0m\n\u001b[1;32m    220\u001b[0m \u001b[39m\"\"\"Fit Gaussian Naive Bayes according to X, y.\u001b[39;00m\n\u001b[1;32m    221\u001b[0m \n\u001b[1;32m    222\u001b[0m \u001b[39mParameters\u001b[39;00m\n\u001b[0;32m   (...)\u001b[0m\n\u001b[1;32m    240\u001b[0m \u001b[39m    Returns the instance itself.\u001b[39;00m\n\u001b[1;32m    241\u001b[0m \u001b[39m\"\"\"\u001b[39;00m\n\u001b[1;32m    242\u001b[0m y \u001b[39m=\u001b[39m \u001b[39mself\u001b[39m\u001b[39m.\u001b[39m_validate_data(y\u001b[39m=\u001b[39my)\n\u001b[0;32m--> 243\u001b[0m \u001b[39mreturn\u001b[39;00m \u001b[39mself\u001b[39;49m\u001b[39m.\u001b[39;49m_partial_fit(\n\u001b[1;32m    244\u001b[0m     X, y, np\u001b[39m.\u001b[39;49munique(y), _refit\u001b[39m=\u001b[39;49m\u001b[39mTrue\u001b[39;49;00m, sample_weight\u001b[39m=\u001b[39;49msample_weight\n\u001b[1;32m    245\u001b[0m )\n",
      "File \u001b[0;32m/Library/Frameworks/Python.framework/Versions/3.9/lib/python3.9/site-packages/sklearn/naive_bayes.py:400\u001b[0m, in \u001b[0;36mGaussianNB._partial_fit\u001b[0;34m(self, X, y, classes, _refit, sample_weight)\u001b[0m\n\u001b[1;32m    397\u001b[0m     \u001b[39mself\u001b[39m\u001b[39m.\u001b[39mclasses_ \u001b[39m=\u001b[39m \u001b[39mNone\u001b[39;00m\n\u001b[1;32m    399\u001b[0m first_call \u001b[39m=\u001b[39m _check_partial_fit_first_call(\u001b[39mself\u001b[39m, classes)\n\u001b[0;32m--> 400\u001b[0m X, y \u001b[39m=\u001b[39m \u001b[39mself\u001b[39;49m\u001b[39m.\u001b[39;49m_validate_data(X, y, reset\u001b[39m=\u001b[39;49mfirst_call)\n\u001b[1;32m    401\u001b[0m \u001b[39mif\u001b[39;00m sample_weight \u001b[39mis\u001b[39;00m \u001b[39mnot\u001b[39;00m \u001b[39mNone\u001b[39;00m:\n\u001b[1;32m    402\u001b[0m     sample_weight \u001b[39m=\u001b[39m _check_sample_weight(sample_weight, X)\n",
      "File \u001b[0;32m/Library/Frameworks/Python.framework/Versions/3.9/lib/python3.9/site-packages/sklearn/base.py:596\u001b[0m, in \u001b[0;36mBaseEstimator._validate_data\u001b[0;34m(self, X, y, reset, validate_separately, **check_params)\u001b[0m\n\u001b[1;32m    594\u001b[0m         y \u001b[39m=\u001b[39m check_array(y, input_name\u001b[39m=\u001b[39m\u001b[39m\"\u001b[39m\u001b[39my\u001b[39m\u001b[39m\"\u001b[39m, \u001b[39m*\u001b[39m\u001b[39m*\u001b[39mcheck_y_params)\n\u001b[1;32m    595\u001b[0m     \u001b[39melse\u001b[39;00m:\n\u001b[0;32m--> 596\u001b[0m         X, y \u001b[39m=\u001b[39m check_X_y(X, y, \u001b[39m*\u001b[39;49m\u001b[39m*\u001b[39;49mcheck_params)\n\u001b[1;32m    597\u001b[0m     out \u001b[39m=\u001b[39m X, y\n\u001b[1;32m    599\u001b[0m \u001b[39mif\u001b[39;00m \u001b[39mnot\u001b[39;00m no_val_X \u001b[39mand\u001b[39;00m check_params\u001b[39m.\u001b[39mget(\u001b[39m\"\u001b[39m\u001b[39mensure_2d\u001b[39m\u001b[39m\"\u001b[39m, \u001b[39mTrue\u001b[39;00m):\n",
      "File \u001b[0;32m/Library/Frameworks/Python.framework/Versions/3.9/lib/python3.9/site-packages/sklearn/utils/validation.py:1074\u001b[0m, in \u001b[0;36mcheck_X_y\u001b[0;34m(X, y, accept_sparse, accept_large_sparse, dtype, order, copy, force_all_finite, ensure_2d, allow_nd, multi_output, ensure_min_samples, ensure_min_features, y_numeric, estimator)\u001b[0m\n\u001b[1;32m   1069\u001b[0m         estimator_name \u001b[39m=\u001b[39m _check_estimator_name(estimator)\n\u001b[1;32m   1070\u001b[0m     \u001b[39mraise\u001b[39;00m \u001b[39mValueError\u001b[39;00m(\n\u001b[1;32m   1071\u001b[0m         \u001b[39mf\u001b[39m\u001b[39m\"\u001b[39m\u001b[39m{\u001b[39;00mestimator_name\u001b[39m}\u001b[39;00m\u001b[39m requires y to be passed, but the target y is None\u001b[39m\u001b[39m\"\u001b[39m\n\u001b[1;32m   1072\u001b[0m     )\n\u001b[0;32m-> 1074\u001b[0m X \u001b[39m=\u001b[39m check_array(\n\u001b[1;32m   1075\u001b[0m     X,\n\u001b[1;32m   1076\u001b[0m     accept_sparse\u001b[39m=\u001b[39;49maccept_sparse,\n\u001b[1;32m   1077\u001b[0m     accept_large_sparse\u001b[39m=\u001b[39;49maccept_large_sparse,\n\u001b[1;32m   1078\u001b[0m     dtype\u001b[39m=\u001b[39;49mdtype,\n\u001b[1;32m   1079\u001b[0m     order\u001b[39m=\u001b[39;49morder,\n\u001b[1;32m   1080\u001b[0m     copy\u001b[39m=\u001b[39;49mcopy,\n\u001b[1;32m   1081\u001b[0m     force_all_finite\u001b[39m=\u001b[39;49mforce_all_finite,\n\u001b[1;32m   1082\u001b[0m     ensure_2d\u001b[39m=\u001b[39;49mensure_2d,\n\u001b[1;32m   1083\u001b[0m     allow_nd\u001b[39m=\u001b[39;49mallow_nd,\n\u001b[1;32m   1084\u001b[0m     ensure_min_samples\u001b[39m=\u001b[39;49mensure_min_samples,\n\u001b[1;32m   1085\u001b[0m     ensure_min_features\u001b[39m=\u001b[39;49mensure_min_features,\n\u001b[1;32m   1086\u001b[0m     estimator\u001b[39m=\u001b[39;49mestimator,\n\u001b[1;32m   1087\u001b[0m     input_name\u001b[39m=\u001b[39;49m\u001b[39m\"\u001b[39;49m\u001b[39mX\u001b[39;49m\u001b[39m\"\u001b[39;49m,\n\u001b[1;32m   1088\u001b[0m )\n\u001b[1;32m   1090\u001b[0m y \u001b[39m=\u001b[39m _check_y(y, multi_output\u001b[39m=\u001b[39mmulti_output, y_numeric\u001b[39m=\u001b[39my_numeric, estimator\u001b[39m=\u001b[39mestimator)\n\u001b[1;32m   1092\u001b[0m check_consistent_length(X, y)\n",
      "File \u001b[0;32m/Library/Frameworks/Python.framework/Versions/3.9/lib/python3.9/site-packages/sklearn/utils/validation.py:879\u001b[0m, in \u001b[0;36mcheck_array\u001b[0;34m(array, accept_sparse, accept_large_sparse, dtype, order, copy, force_all_finite, ensure_2d, allow_nd, ensure_min_samples, ensure_min_features, estimator, input_name)\u001b[0m\n\u001b[1;32m    877\u001b[0m     \u001b[39m# If input is 1D raise error\u001b[39;00m\n\u001b[1;32m    878\u001b[0m     \u001b[39mif\u001b[39;00m array\u001b[39m.\u001b[39mndim \u001b[39m==\u001b[39m \u001b[39m1\u001b[39m:\n\u001b[0;32m--> 879\u001b[0m         \u001b[39mraise\u001b[39;00m \u001b[39mValueError\u001b[39;00m(\n\u001b[1;32m    880\u001b[0m             \u001b[39m\"\u001b[39m\u001b[39mExpected 2D array, got 1D array instead:\u001b[39m\u001b[39m\\n\u001b[39;00m\u001b[39marray=\u001b[39m\u001b[39m{}\u001b[39;00m\u001b[39m.\u001b[39m\u001b[39m\\n\u001b[39;00m\u001b[39m\"\u001b[39m\n\u001b[1;32m    881\u001b[0m             \u001b[39m\"\u001b[39m\u001b[39mReshape your data either using array.reshape(-1, 1) if \u001b[39m\u001b[39m\"\u001b[39m\n\u001b[1;32m    882\u001b[0m             \u001b[39m\"\u001b[39m\u001b[39myour data has a single feature or array.reshape(1, -1) \u001b[39m\u001b[39m\"\u001b[39m\n\u001b[1;32m    883\u001b[0m             \u001b[39m\"\u001b[39m\u001b[39mif it contains a single sample.\u001b[39m\u001b[39m\"\u001b[39m\u001b[39m.\u001b[39mformat(array)\n\u001b[1;32m    884\u001b[0m         )\n\u001b[1;32m    886\u001b[0m \u001b[39mif\u001b[39;00m dtype_numeric \u001b[39mand\u001b[39;00m array\u001b[39m.\u001b[39mdtype\u001b[39m.\u001b[39mkind \u001b[39min\u001b[39;00m \u001b[39m\"\u001b[39m\u001b[39mUSV\u001b[39m\u001b[39m\"\u001b[39m:\n\u001b[1;32m    887\u001b[0m     \u001b[39mraise\u001b[39;00m \u001b[39mValueError\u001b[39;00m(\n\u001b[1;32m    888\u001b[0m         \u001b[39m\"\u001b[39m\u001b[39mdtype=\u001b[39m\u001b[39m'\u001b[39m\u001b[39mnumeric\u001b[39m\u001b[39m'\u001b[39m\u001b[39m is not compatible with arrays of bytes/strings.\u001b[39m\u001b[39m\"\u001b[39m\n\u001b[1;32m    889\u001b[0m         \u001b[39m\"\u001b[39m\u001b[39mConvert your data to numeric values explicitly instead.\u001b[39m\u001b[39m\"\u001b[39m\n\u001b[1;32m    890\u001b[0m     )\n",
      "\u001b[0;31mValueError\u001b[0m: Expected 2D array, got 1D array instead:\narray=[ 1.47649  1.39221 -0.00397 ...  1.91808  1.76296  0.24518].\nReshape your data either using array.reshape(-1, 1) if your data has a single feature or array.reshape(1, -1) if it contains a single sample."
     ]
    }
   ],
   "source": [
    "\n",
    "for array in (u_g, g_r, r_i, i_z):\n",
    "    xtrain, xtest, ytrain, ytest = sklearn.model_selection.train_test_split(\n",
    "        array, fast_kind, test_size = 0.75) \n",
    "\n",
    "    classifier = GaussianNB()\n",
    "    classifier.fit(xtrain, ytrain)\n"
   ]
  },
  {
   "cell_type": "code",
   "execution_count": null,
   "metadata": {},
   "outputs": [],
   "source": [
    "\n"
   ]
  }
 ],
 "metadata": {
  "kernelspec": {
   "display_name": "Python 3",
   "language": "python",
   "name": "python3"
  },
  "language_info": {
   "codemirror_mode": {
    "name": "ipython",
    "version": 3
   },
   "file_extension": ".py",
   "mimetype": "text/x-python",
   "name": "python",
   "nbconvert_exporter": "python",
   "pygments_lexer": "ipython3",
   "version": "3.9.7"
  },
  "orig_nbformat": 4
 },
 "nbformat": 4,
 "nbformat_minor": 2
}
