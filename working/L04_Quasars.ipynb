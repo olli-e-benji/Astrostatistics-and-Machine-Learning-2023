{
 "cells": [
  {
   "attachments": {},
   "cell_type": "markdown",
   "metadata": {},
   "source": [
    "# Cloning Quasars"
   ]
  },
  {
   "cell_type": "code",
   "execution_count": 2,
   "metadata": {},
   "outputs": [],
   "source": [
    "import numpy as np\n",
    "import matplotlib.pyplot as plt\n",
    "from scipy import stats"
   ]
  },
  {
   "cell_type": "code",
   "execution_count": 3,
   "metadata": {},
   "outputs": [],
   "source": [
    "from astroML.datasets import fetch_dr7_quasar\n",
    "\n",
    "# Fetch the quasar data\n",
    "data = fetch_dr7_quasar()\n",
    "\n",
    "# select the first 10000 points\n",
    "data = data[:10000]\n",
    "\n",
    "z = data['redshift']"
   ]
  },
  {
   "attachments": {},
   "cell_type": "markdown",
   "metadata": {},
   "source": [
    "Upsample the distribution with both rejection sampling and transform sampling"
   ]
  },
  {
   "attachments": {},
   "cell_type": "markdown",
   "metadata": {},
   "source": [
    "## Rejection Sampling"
   ]
  },
  {
   "cell_type": "code",
   "execution_count": 123,
   "metadata": {},
   "outputs": [
    {
     "name": "stderr",
     "output_type": "stream",
     "text": [
      "/var/folders/hz/p6990d5s151fqhq0n07rh8sm0000gn/T/ipykernel_94263/217224761.py:24: DeprecationWarning: elementwise comparison failed; this will raise an error in the future.\n",
      "  indexes_good = (upsampled_y == good_y)\n"
     ]
    },
    {
     "name": "stdout",
     "output_type": "stream",
     "text": [
      "False\n"
     ]
    },
    {
     "data": {
      "image/png": "[encoded data removed]",
      "text/plain": [
       "<Figure size 432x288 with 1 Axes>"
      ]
     },
     "metadata": {
      "needs_background": "light"
     },
     "output_type": "display_data"
    }
   ],
   "source": [
    "bins = 100\n",
    "tries = 10000\n",
    "\n",
    "uniform_x = stats.uniform(np.min(z), np.max(z))\n",
    "uniform_y = stats.uniform(0, 1)\n",
    "\n",
    "x = plt.hist(z, bins, density=True)\n",
    "\n",
    "#Reshaping arrays so that they have the same dimension\n",
    "pdf_baseline = x[0][:bins]              #PDF\n",
    "bin_baseline = x[1][:bins]              #Binning\n",
    "\n",
    "#Upsampling from uniform distributions \"boxing\" the histogram\n",
    "upsampled_x = uniform_x.rvs(tries)\n",
    "upsampled_y = uniform_y.rvs(tries)\n",
    "\n",
    "x_indexes = np.digitize(upsampled_x, bin_baseline)   #Getting the positional indexes to locate new x-drawn data from the histogram binnings\n",
    "\n",
    "reference_y = pdf_baseline[(x_indexes-1)]\n",
    "\n",
    "good_y = upsampled_y[upsampled_y <= reference_y]\n",
    "bad_y = upsampled_y[upsampled_y > reference_y]\n",
    "\n",
    "indexes_good = (upsampled_y == good_y)\n",
    "\n",
    "\n",
    "print(indexes_good)\n",
    "\n",
    "\n",
    "\n",
    "#print(y_mask)\n",
    "#print(len(y_mask))\n",
    "\n"
   ]
  },
  {
   "cell_type": "code",
   "execution_count": null,
   "metadata": {},
   "outputs": [],
   "source": []
  },
  {
   "attachments": {},
   "cell_type": "markdown",
   "metadata": {},
   "source": [
    "## Inverse Transform Sampling"
   ]
  },
  {
   "cell_type": "code",
   "execution_count": 2,
   "metadata": {},
   "outputs": [
    {
     "data": {
      "text/plain": [
       "FlatLambdaCDM(name=\"Planck15\", H0=67.7 km / (Mpc s), Om0=0.307, Tcmb0=2.725 K, Neff=3.05, m_nu=[0.   0.   0.06] eV, Ob0=0.0486)"
      ]
     },
     "execution_count": 2,
     "metadata": {},
     "output_type": "execute_result"
    }
   ],
   "source": [
    "import astropy\n",
    "astropy.cosmology.Planck15"
   ]
  },
  {
   "cell_type": "code",
   "execution_count": null,
   "metadata": {},
   "outputs": [],
   "source": []
  },
  {
   "attachments": {},
   "cell_type": "markdown",
   "metadata": {},
   "source": [
    "# Gerry's implementation"
   ]
  },
  {
   "cell_type": "code",
   "execution_count": 130,
   "metadata": {},
   "outputs": [],
   "source": [
    "import numpy as np\n",
    "import scipy.stats\n",
    "import astropy\n",
    "import matplotlib.pyplot as plt"
   ]
  },
  {
   "cell_type": "code",
   "execution_count": 132,
   "metadata": {},
   "outputs": [],
   "source": [
    "from astroML.datasets import fetch_dr7_quasar\n",
    "\n",
    "# Fetch the quasar data\n",
    "quasars = fetch_dr7_quasar()\n",
    "\n",
    "# select the first 10000 points\n",
    "quasars = quasars[:10000]\n",
    "\n",
    "z = quasars['redshift']"
   ]
  },
  {
   "cell_type": "code",
   "execution_count": 133,
   "metadata": {},
   "outputs": [
    {
     "data": {
      "image/png": "[encoded data removed]",
      "text/plain": [
       "<Figure size 432x288 with 1 Axes>"
      ]
     },
     "metadata": {
      "needs_background": "light"
     },
     "output_type": "display_data"
    }
   ],
   "source": [
    "plt.hist(z,bins=50,histtype='step',density=True,label='original data');"
   ]
  },
  {
   "cell_type": "code",
   "execution_count": 134,
   "metadata": {},
   "outputs": [
    {
     "data": {
      "text/plain": [
       "(array([0.00750005, 0.03000019, 0.06750042, 0.08437555, 0.14812589,\n",
       "        0.2756268 , 0.28312669, 0.30375182, 0.28875189, 0.33000216,\n",
       "        0.38812754, 0.3318768 , 0.37500245, 0.37687747, 0.34875228,\n",
       "        0.34125223, 0.41062723, 0.49687881, 0.46687753, 0.42000228,\n",
       "        0.49687881, 0.54937798, 0.56812808, 0.57187938, 0.55500301,\n",
       "        0.48937875, 0.53250289, 0.62250338, 0.55875428, 0.57000309,\n",
       "        0.51937898, 0.53250289, 0.4968777 , 0.53625411, 0.39562715,\n",
       "        0.31500241, 0.38062706, 0.34125185, 0.35437692, 0.31875173,\n",
       "        0.29625293, 0.2400013 , 0.21375116, 0.23437627, 0.183751  ,\n",
       "        0.20812706, 0.16125087, 0.14625079, 0.14062576, 0.15375083,\n",
       "        0.14062639, 0.10500057, 0.10500057, 0.09000049, 0.07125039,\n",
       "        0.07687576, 0.06750037, 0.05812532, 0.06375035, 0.05437529,\n",
       "        0.04687546, 0.0375002 , 0.02250012, 0.02437513, 0.02437513,\n",
       "        0.01687509, 0.03187532, 0.02812515, 0.03375018, 0.0187501 ,\n",
       "        0.01500008, 0.00187502, 0.03187517, 0.01125011, 0.01687502,\n",
       "        0.00562506, 0.02437502, 0.01312513, 0.00562501, 0.00937509,\n",
       "        0.        , 0.001875  , 0.00750007, 0.001875  , 0.00187502,\n",
       "        0.00187502, 0.        , 0.00937509, 0.        , 0.00187502,\n",
       "        0.        , 0.00375   , 0.00562506, 0.001875  , 0.        ,\n",
       "        0.        , 0.        , 0.        , 0.        , 0.00187502]),\n",
       " array([0.0802    , 0.133533  , 0.186866  , 0.240199  , 0.29353198,\n",
       "        0.346865  , 0.40019798, 0.453531  , 0.506864  , 0.560197  ,\n",
       "        0.61353   , 0.66686296, 0.720196  , 0.773529  , 0.826862  ,\n",
       "        0.88019496, 0.93352795, 0.986861  , 1.0401939 , 1.093527  ,\n",
       "        1.14686   , 1.2001929 , 1.253526  , 1.306859  , 1.360192  ,\n",
       "        1.413525  , 1.4668579 , 1.520191  , 1.573524  , 1.6268569 ,\n",
       "        1.68019   , 1.7335229 , 1.7868559 , 1.840189  , 1.8935219 ,\n",
       "        1.946855  , 2.0001879 , 2.053521  , 2.106854  , 2.160187  ,\n",
       "        2.21352   , 2.2668529 , 2.320186  , 2.373519  , 2.426852  ,\n",
       "        2.480185  , 2.5335178 , 2.586851  , 2.640184  , 2.693517  ,\n",
       "        2.74685   , 2.8001828 , 2.8535159 , 2.906849  , 2.960182  ,\n",
       "        3.013515  , 3.0668478 , 3.1201808 , 3.173514  , 3.226847  ,\n",
       "        3.28018   , 3.3335128 , 3.3868458 , 3.4401789 , 3.493512  ,\n",
       "        3.546845  , 3.600178  , 3.6535108 , 3.7068439 , 3.760177  ,\n",
       "        3.81351   , 3.866843  , 3.9201758 , 3.9735088 , 4.0268416 ,\n",
       "        4.080175  , 4.1335077 , 4.186841  , 4.240174  , 4.293507  ,\n",
       "        4.34684   , 4.4001727 , 4.453506  , 4.506839  , 4.560172  ,\n",
       "        4.613505  , 4.6668377 , 4.720171  , 4.773504  , 4.826837  ,\n",
       "        4.88017   , 4.9335027 , 4.986836  , 5.040169  , 5.093502  ,\n",
       "        5.146835  , 5.2001677 , 5.253501  , 5.3068337 , 5.360167  ,\n",
       "        5.4135    ], dtype=float32))"
      ]
     },
     "execution_count": 134,
     "metadata": {},
     "output_type": "execute_result"
    }
   ],
   "source": [
    "np.histogram(z, bins=100,density=True)"
   ]
  },
  {
   "attachments": {},
   "cell_type": "markdown",
   "metadata": {},
   "source": [
    "### Rejection Sampling"
   ]
  },
  {
   "cell_type": "code",
   "execution_count": 136,
   "metadata": {},
   "outputs": [
    {
     "name": "stdout",
     "output_type": "stream",
     "text": [
      "[0.01875012 0.07593799 0.21187633 0.29343926 0.30937702 0.36000215\n",
      " 0.37593996 0.34500226 0.45375297 0.44343991 0.52312842 0.57000373\n",
      " 0.52219092 0.57750313 0.56437869 0.52594094 0.51656588 0.35531482\n",
      " 0.36093946 0.33656433 0.26812705 0.22406372 0.195939   0.15375083\n",
      " 0.1471883  0.12281344 0.09750053 0.07406307 0.06281284 0.05906282\n",
      " 0.04218782 0.02343763 0.02062511 0.03000023 0.02625014 0.00843756\n",
      " 0.02156267 0.01125006 0.0187501  0.00750004 0.00093751 0.00468753\n",
      " 0.00187502 0.00468753 0.00093751 0.00187501 0.00375002 0.\n",
      " 0.         0.00093751] [0.0802     0.186866   0.29353198 0.40019798 0.506864   0.61353\n",
      " 0.720196   0.826862   0.93352795 1.0401939  1.14686    1.253526\n",
      " 1.360192   1.4668579  1.573524   1.68019    1.7868559  1.8935219\n",
      " 2.0001879  2.106854   2.21352    2.320186   2.426852   2.5335178\n",
      " 2.640184   2.74685    2.8535159  2.960182   3.0668478  3.173514\n",
      " 3.28018    3.3868458  3.493512   3.600178   3.7068439  3.81351\n",
      " 3.9201758  4.0268416  4.1335077  4.240174   4.34684    4.453506\n",
      " 4.560172   4.6668377  4.773504   4.88017    4.986836   5.093502\n",
      " 5.2001677  5.3068337  5.4135    ]\n"
     ]
    },
    {
     "data": {
      "image/png": "[encoded data removed]",
      "text/plain": [
       "<Figure size 432x288 with 1 Axes>"
      ]
     },
     "metadata": {
      "needs_background": "light"
     },
     "output_type": "display_data"
    }
   ],
   "source": []
  },
  {
   "cell_type": "code",
   "execution_count": 141,
   "metadata": {},
   "outputs": [
    {
     "data": {
      "text/plain": [
       "<matplotlib.legend.Legend at 0x7fb0b128c730>"
      ]
     },
     "execution_count": 141,
     "metadata": {},
     "output_type": "execute_result"
    },
    {
     "data": {
      "image/png": "[encoded data removed]",
      "text/plain": [
       "<Figure size 432x288 with 1 Axes>"
      ]
     },
     "metadata": {
      "needs_background": "light"
     },
     "output_type": "display_data"
    }
   ],
   "source": [
    "\n",
    "\n",
    "\n",
    "resolution = 50\n",
    "\n",
    "plt.hist(z, resolution, density=True,label='Fetched Redshift');\n",
    "\n",
    "# make a simple histogram object\n",
    "density, bins = np.histogram(z, bins=resolution, density=True)\n",
    "\n",
    "\n",
    "\n",
    "\n",
    "# Make a scipy.stats random variable object from a histogram\n",
    "# This is a great hack!\n",
    "disth = scipy.stats.rv_histogram((density, bins))\n",
    "\n",
    "\n",
    "# Let's do it manually again\n",
    "N = 100000 # trials\n",
    "x_axis = np.random.uniform(0,5, N) # proposed points\n",
    "y_axis = np.random.uniform(0, 1, N) # uniform draws\n",
    "\n",
    "mask_good = y_axis <= disth.pdf(x_axis) # assess whether u <= q(x_i)\n",
    "mask_bad = y_axis > disth.pdf(x_axis)\n",
    "\n",
    "#Evaluated points separating accepted from rejected with masks\n",
    "good_points = y_axis[mask_good]\n",
    "#bad_points = y_axis[mask_bad]\n",
    "\n",
    "plt.hist(good_points, bins=resolution, density=True,histtype='step',label='Accepted points')\n",
    "#plt.hist(bad_points, bins=resolution, density=True, histtype='step', label='Rejected points')\n",
    "\n",
    "### But scipy has it already implemented \n",
    "#plt.hist(disth.rvs(N),bins=50,density=True,histtype='step',label='cloned data 2');\n",
    "\n",
    "plt.legend()"
   ]
  },
  {
   "cell_type": "code",
   "execution_count": null,
   "metadata": {},
   "outputs": [],
   "source": []
  }
 ],
 "metadata": {
  "kernelspec": {
   "display_name": "Python 3",
   "language": "python",
   "name": "python3"
  },
  "language_info": {
   "codemirror_mode": {
    "name": "ipython",
    "version": 3
   },
   "file_extension": ".py",
   "mimetype": "text/x-python",
   "name": "python",
   "nbconvert_exporter": "python",
   "pygments_lexer": "ipython3",
   "version": "3.9.7"
  },
  "orig_nbformat": 4
 },
 "nbformat": 4,
 "nbformat_minor": 2
}
