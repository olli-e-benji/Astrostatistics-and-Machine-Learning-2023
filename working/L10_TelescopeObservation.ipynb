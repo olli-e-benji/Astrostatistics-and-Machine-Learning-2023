{
 "cells": [
  {
   "attachments": {},
   "cell_type": "markdown",
   "metadata": {},
   "source": [
    "# Telescope Observation: Sunny or Cloudy"
   ]
  },
  {
   "attachments": {},
   "cell_type": "markdown",
   "metadata": {},
   "source": [
    "#### **Sunny = 0**\n",
    "#### **Cloudy = 1**"
   ]
  },
  {
   "cell_type": "code",
   "execution_count": 1,
   "metadata": {},
   "outputs": [],
   "source": [
    "import numpy as np\n",
    "import matplotlib.pyplot as plt"
   ]
  },
  {
   "cell_type": "code",
   "execution_count": 26,
   "metadata": {},
   "outputs": [
    {
     "name": "stderr",
     "output_type": "stream",
     "text": [
      "/var/folders/hz/p6990d5s151fqhq0n07rh8sm0000gn/T/ipykernel_21560/2767630400.py:22: RuntimeWarning: divide by zero encountered in true_divide\n",
      "  traceplot = np.cumsum(forecast)/(np.arange(forecast.shape[0]))\n"
     ]
    },
    {
     "data": {
      "image/png": "[encoded data removed]",
      "text/plain": [
       "<Figure size 432x288 with 1 Axes>"
      ]
     },
     "metadata": {
      "needs_background": "light"
     },
     "output_type": "display_data"
    }
   ],
   "source": [
    "N = int(1e5)\n",
    "\n",
    "days = np.array([0, 1])\n",
    "prob_given_clear = np.array([0.9, 0.1])\n",
    "prob_given_cloudy = np.array([0.5, 0.5])\n",
    "\n",
    "#Starting off on a cloudy day\n",
    "forecast = [1]\n",
    "\n",
    "for i in range(N):\n",
    "\n",
    "    #Today is clear -> Tomorrow is cloudy at 10% or clear at 90%\n",
    "    if (forecast[i] == 0):\n",
    "        forecast.append(np.random.choice(days, p=prob_given_clear))\n",
    "    \n",
    "    #Today is cloudy -> Tomorrow is cloudy at 50% or clear at 50%\n",
    "    elif(forecast[i] == 1): \n",
    "        forecast.append(np.random.choice(days, p=prob_given_cloudy))\n",
    "\n",
    "forecast = np.array(forecast)\n",
    "\n",
    "traceplot = np.cumsum(forecast)/(np.arange(forecast.shape[0]))\n",
    "plt.plot(traceplot);"
   ]
  },
  {
   "cell_type": "code",
   "execution_count": 14,
   "metadata": {},
   "outputs": [
    {
     "name": "stdout",
     "output_type": "stream",
     "text": [
      "10000\n"
     ]
    },
    {
     "data": {
      "text/plain": [
       "[<matplotlib.lines.Line2D at 0x7f81897a7bb0>]"
      ]
     },
     "execution_count": 14,
     "metadata": {},
     "output_type": "execute_result"
    },
    {
     "data": {
      "image/png": "[encoded data removed]",
      "text/plain": [
       "<Figure size 432x288 with 1 Axes>"
      ]
     },
     "metadata": {
      "needs_background": "light"
     },
     "output_type": "display_data"
    }
   ],
   "source": [
    "weather = [1] # Weather of the first day\n",
    "\n",
    "for ii in range(1,10000):\n",
    "    # implementing forecasts based on probabilities\n",
    "    if weather[ii-1] == 1:\n",
    "        weather.append(np.random.choice(np.array([0, 1]),\n",
    "                                        p=np.array([0.1, 0.9])))\n",
    "    elif weather[ii-1] == 0:\n",
    "        weather.append(np.random.choice(np.array([0, 1]),\n",
    "                                        p=np.array([0.5, 0.5])))\n",
    "weather = np.array(weather)\n",
    "\n",
    "running_clear = np.cumsum(weather)/( np.arange(weather.shape[0])+1 )\n",
    "# plot the running average\n",
    "plt.plot(running_clear)"
   ]
  },
  {
   "cell_type": "code",
   "execution_count": 38,
   "metadata": {},
   "outputs": [
    {
     "data": {
      "image/png": "[encoded data removed]",
      "text/plain": [
       "<Figure size 432x288 with 1 Axes>"
      ]
     },
     "metadata": {
      "needs_background": "light"
     },
     "output_type": "display_data"
    }
   ],
   "source": [
    "N = 10000\n",
    "psunny = 0.83\n",
    "obs = []\n",
    "\n",
    "#Fill the observations with either sunny or cloudy according to the probabilities above\n",
    "for i in range(N):\n",
    "    obs.append(forecast())\n",
    "\n",
    "obs = np.array(obs)\n",
    "\n",
    "plt.hist(obs, bins=2);"
   ]
  },
  {
   "cell_type": "code",
   "execution_count": null,
   "metadata": {},
   "outputs": [],
   "source": []
  },
  {
   "cell_type": "code",
   "execution_count": null,
   "metadata": {},
   "outputs": [],
   "source": []
  }
 ],
 "metadata": {
  "kernelspec": {
   "display_name": "Python 3",
   "language": "python",
   "name": "python3"
  },
  "language_info": {
   "codemirror_mode": {
    "name": "ipython",
    "version": 3
   },
   "file_extension": ".py",
   "mimetype": "text/x-python",
   "name": "python",
   "nbconvert_exporter": "python",
   "pygments_lexer": "ipython3",
   "version": "3.9.7"
  },
  "orig_nbformat": 4
 },
 "nbformat": 4,
 "nbformat_minor": 2
}
