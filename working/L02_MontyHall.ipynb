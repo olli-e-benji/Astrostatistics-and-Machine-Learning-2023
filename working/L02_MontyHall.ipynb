{
 "cells": [
  {
   "attachments": {},
   "cell_type": "markdown",
   "metadata": {},
   "source": [
    "# Monty Hall Implementation"
   ]
  },
  {
   "cell_type": "markdown",
   "metadata": {},
   "source": [
    "### Work in progress!!!"
   ]
  },
  {
   "cell_type": "code",
   "execution_count": 1,
   "metadata": {},
   "outputs": [],
   "source": [
    "import numpy as np\n",
    "import matplotlib.pyplot as plt"
   ]
  },
  {
   "cell_type": "code",
   "execution_count": 2,
   "metadata": {},
   "outputs": [],
   "source": [
    "#Filling the doors with n-1 goats and 1 car for a given N\n",
    "\n",
    "def fill_doors(doors, number):\n",
    "    for i in range (0, (number)):\n",
    "        doors.append('goat')\n",
    "    doors.append('car')\n",
    "\n",
    "    #Scrambling\n",
    "    np.random.shuffle(doors)\n",
    "\n",
    "    return doors"
   ]
  },
  {
   "attachments": {},
   "cell_type": "markdown",
   "metadata": {},
   "source": [
    "### 3 Doors"
   ]
  },
  {
   "cell_type": "code",
   "execution_count": 5,
   "metadata": {},
   "outputs": [
    {
     "data": {
      "image/png": "[encoded data removed]",
      "text/plain": [
       "<Figure size 432x288 with 1 Axes>"
      ]
     },
     "metadata": {
      "needs_background": "light"
     },
     "output_type": "display_data"
    }
   ],
   "source": [
    "doors, keeper, switcher, newcomer = [], [], [], []\n",
    "\n",
    "high = 3\n",
    "\n",
    "N = int(1e5)\n",
    "\n",
    "for i in range(0, N):\n",
    "\n",
    "    doors = fill_doors(doors, high-1)\n",
    "    choice = np.random.randint(0, high)\n",
    "\n",
    "    #Keeper\n",
    "    keeper.append(doors[choice])\n",
    "\n",
    "    #Switcher\n",
    "    if(doors[choice] == 'car'):                  #Switcher will switch, hence losing\n",
    "        switcher.append('goat')\n",
    "    else:\n",
    "        switcher.append('car')                  #Switcher will switch from goat to car when only 2 doors remain, hence winning\n",
    "\n",
    "    #Newcomer\n",
    "    doors.clear()\n",
    "    doors = fill_doors(doors, 2)\n",
    "    newcomer_choice = np.random.randint(0, 2)\n",
    "    newcomer.append(doors[newcomer_choice])      #Newcomer doesn't have prior knowledge, he will always choose car with 50% probability\n",
    "\n",
    "\n",
    "\n",
    "colors = ['red', 'green', 'blue']\n",
    "labels = ['keeper', 'switcher', 'newcomer']\n",
    "\n",
    "plt.title('Win rates for {} doors'.format(high))\n",
    "plt.hist([keeper, switcher, newcomer], color=colors, label=labels)\n",
    "plt.legend()\n",
    "plt.show()"
   ]
  },
  {
   "attachments": {},
   "cell_type": "markdown",
   "metadata": {},
   "source": [
    "### 100 Doors"
   ]
  },
  {
   "cell_type": "code",
   "execution_count": 11,
   "metadata": {},
   "outputs": [
    {
     "data": {
      "image/png": "[encoded data removed]",
      "text/plain": [
       "<Figure size 432x288 with 1 Axes>"
      ]
     },
     "metadata": {
      "needs_background": "light"
     },
     "output_type": "display_data"
    }
   ],
   "source": [
    "doors, keeper, switcher, newcomer = [], [], [], []\n",
    "\n",
    "high = 100\n",
    "\n",
    "N = int(1e5)\n",
    "\n",
    "for i in range(0, N):\n",
    "\n",
    "    doors = fill_doors(doors, high)\n",
    "    choice = np.random.randint(0, high)\n",
    "\n",
    "    #Keeper\n",
    "    keeper.append(doors[choice])\n",
    "\n",
    "    #Switcher\n",
    "    if(doors[choice] == 'car'):                  #Switcher will switch, hence losing\n",
    "        switcher.append('goat')\n",
    "    else:\n",
    "        switcher.append('car')                  #Switcher will switch from goat to car when only 2 doors remain, hence winning\n",
    "\n",
    "    #Newcomer\n",
    "    doors.clear()\n",
    "    doors = fill_doors(doors, 2)\n",
    "    newcomer_choice = np.random.randint(0, 2)\n",
    "    newcomer.append(doors[newcomer_choice])      #Newcomer doesn't have prior knowledge, he will always choose car with 50% probability\n",
    "\n",
    "\n",
    "\n",
    "colors = ['red', 'green', 'blue']\n",
    "labels = ['keeper', 'switcher', 'newcomer']\n",
    "\n",
    "plt.title('Win rates for {} doors'.format(high))\n",
    "plt.hist([keeper, switcher, newcomer], color=colors, label=labels)\n",
    "plt.legend()\n",
    "plt.show()"
   ]
  },
  {
   "cell_type": "code",
   "execution_count": null,
   "metadata": {},
   "outputs": [],
   "source": []
  }
 ],
 "metadata": {
  "kernelspec": {
   "display_name": "Python 3",
   "language": "python",
   "name": "python3"
  },
  "language_info": {
   "codemirror_mode": {
    "name": "ipython",
    "version": 3
   },
   "file_extension": ".py",
   "mimetype": "text/x-python",
   "name": "python",
   "nbconvert_exporter": "python",
   "pygments_lexer": "ipython3",
   "version": "3.9.7"
  },
  "orig_nbformat": 4,
  "vscode": {
   "interpreter": {
    "hash": "aee8b7b246df8f9039afb4144a1f6fd8d2ca17a180786b69acc140d282b71a49"
   }
  }
 },
 "nbformat": 4,
 "nbformat_minor": 2
}
