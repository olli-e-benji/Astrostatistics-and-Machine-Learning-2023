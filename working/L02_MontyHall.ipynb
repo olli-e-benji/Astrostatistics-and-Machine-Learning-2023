{
 "cells": [
  {
   "attachments": {},
   "cell_type": "markdown",
   "metadata": {},
   "source": [
    "# Monty Hall Implementation"
   ]
  },
  {
   "cell_type": "code",
   "execution_count": 1,
   "metadata": {},
   "outputs": [],
   "source": [
    "#Housekeepings\n",
    "\n",
    "import numpy as np\n",
    "import matplotlib.pyplot as plt"
   ]
  },
  {
   "cell_type": "code",
   "execution_count": 3,
   "metadata": {},
   "outputs": [],
   "source": [
    "def fill_doors(doors, number):    #Filling the doors with n-1 goats and 1 car for a given n\n",
    "    for i in range (0, (number-1)):\n",
    "        doors.append('goat')\n",
    "    doors.append('car')\n",
    "    np.random.shuffle(doors)\n",
    "\n",
    "    return doors\n",
    "\n",
    "def leaving_goat_car(doors):    #Figurative operation, same as opening each door with a goat behind and leaving only 2 closed with car and goat\n",
    "    doors.clear()\n",
    "    doors.append('car')\n",
    "    doors.append('goat')\n",
    "    np.random.shuffle(doors)\n",
    "\n",
    "    return doors\n",
    "\n"
   ]
  },
  {
   "cell_type": "markdown",
   "metadata": {},
   "source": [
    "keeper, switcher, newcomer = [], [], []\n",
    "\n",
    "low = 0\n",
    "high = 3 \n",
    "\n",
    "iterate = 10\n",
    "\n",
    "\n",
    "\n",
    "for i in range(0, iterate):\n",
    "\n",
    "    doors = ['car', 'goat', 'goat']\n",
    "\n",
    "    np.random.shuffle(doors)\n",
    "    choice = np.random.randint(low, high)\n",
    "    keeper.append(doors[choice])\n",
    "\n",
    "    if (doors[choice] == 'car'): #switcher loses!\n",
    "        if(choice == 0):\n",
    "            doors.pop(choice+1)\n",
    "        elif(choice == 2):\n",
    "            doors.pop(choice-1)\n",
    "        else:\n",
    "            doors.pop(choice-1)\n",
    "    else:\n",
    "\n",
    "\n",
    "    else:   #switcher wins because the opened door is goat and the chosen door was a goat so the switch is automatically car!\n",
    "        switcher.append('car')\n",
    "    \n",
    "    goat_position = np.where(doors == 'goat')\n",
    "    for j in range(len(goat_position)):\n",
    "        #if(goat_position[j] != choice):\n",
    "        #    doors.pop(goat_position(j))\n",
    "        #elif(j+1 <= len(goat_position)):\n",
    "        #    doors.pop(goat_position(j+1))\n",
    "        #elif(j-1 >= 0):\n",
    "        #    doors.pop(goat_position(j-1))\n",
    "    #newcomer.append(np.random.choice(doors))\n",
    "        print(goat_position[j])\n",
    "    \n",
    "\n",
    "\n",
    "colors = ['red', 'green', 'blue']\n",
    "labels = ['keeper', 'switcher', 'newcomer']\n",
    "\n",
    "plt.hist([keeper, switcher, newcomer], color=colors, label=labels)\n",
    "plt.legend()\n",
    "\n",
    "\n",
    "\n"
   ]
  },
  {
   "cell_type": "code",
   "execution_count": null,
   "metadata": {},
   "outputs": [],
   "source": []
  },
  {
   "cell_type": "code",
   "execution_count": null,
   "metadata": {},
   "outputs": [
    {
     "ename": "NameError",
     "evalue": "name 'np' is not defined",
     "output_type": "error",
     "traceback": [
      "\u001b[0;31m---------------------------------------------------------------------------\u001b[0m\n",
      "\u001b[0;31mNameError\u001b[0m                                 Traceback (most recent call last)\n",
      "\u001b[1;32m/Users/oliverbenjaminrossi/Visual Studio/Università/Astrostatistics and ML/Exercises/MontyHall.ipynb Cella 3\u001b[0m in \u001b[0;36m<cell line: 8>\u001b[0;34m()\u001b[0m\n",
      "\u001b[1;32m      <a href='vscode-notebook-cell:/Users/oliverbenjaminrossi/Visual%20Studio/Universit%C3%A0/Astrostatistics%20and%20ML/Exercises/MontyHall.ipynb#W2sZmlsZQ%3D%3D?line=7'>8</a>\u001b[0m \u001b[39mfor\u001b[39;00m i \u001b[39min\u001b[39;00m \u001b[39mrange\u001b[39m(\u001b[39m0\u001b[39m, iterate):\n",
      "\u001b[1;32m     <a href='vscode-notebook-cell:/Users/oliverbenjaminrossi/Visual%20Studio/Universit%C3%A0/Astrostatistics%20and%20ML/Exercises/MontyHall.ipynb#W2sZmlsZQ%3D%3D?line=9'>10</a>\u001b[0m     doors \u001b[39m=\u001b[39m [\u001b[39m'\u001b[39m\u001b[39mcar\u001b[39m\u001b[39m'\u001b[39m, \u001b[39m'\u001b[39m\u001b[39mgoat\u001b[39m\u001b[39m'\u001b[39m, \u001b[39m'\u001b[39m\u001b[39mgoat\u001b[39m\u001b[39m'\u001b[39m]\n",
      "\u001b[0;32m---> <a href='vscode-notebook-cell:/Users/oliverbenjaminrossi/Visual%20Studio/Universit%C3%A0/Astrostatistics%20and%20ML/Exercises/MontyHall.ipynb#W2sZmlsZQ%3D%3D?line=11'>12</a>\u001b[0m     np\u001b[39m.\u001b[39mrandom\u001b[39m.\u001b[39mshuffle(doors)\n",
      "\u001b[1;32m     <a href='vscode-notebook-cell:/Users/oliverbenjaminrossi/Visual%20Studio/Universit%C3%A0/Astrostatistics%20and%20ML/Exercises/MontyHall.ipynb#W2sZmlsZQ%3D%3D?line=12'>13</a>\u001b[0m     choice \u001b[39m=\u001b[39m np\u001b[39m.\u001b[39mrandom\u001b[39m.\u001b[39mrandint(low, high)\n",
      "\u001b[1;32m     <a href='vscode-notebook-cell:/Users/oliverbenjaminrossi/Visual%20Studio/Universit%C3%A0/Astrostatistics%20and%20ML/Exercises/MontyHall.ipynb#W2sZmlsZQ%3D%3D?line=13'>14</a>\u001b[0m     keeper\u001b[39m.\u001b[39mappend(doors[choice])\n",
      "\n",
      "\u001b[0;31mNameError\u001b[0m: name 'np' is not defined"
     ]
    }
   ],
   "source": [
    "doors, keeper, switcher, newcomer = [], [], [], []\n",
    "\n",
    "low = 0\n",
    "high = 3 \n",
    "\n",
    "iterate = 10\n",
    "\n",
    "\n",
    "\n",
    "for i in range(0, iterate):\n",
    "\n",
    "    doors = fill_doors(doors)\n",
    "\n",
    "    np.random.shuffle(doors)\n",
    "    choice = np.random.randint(low, high)\n",
    "    keeper.append(doors[choice])\n",
    "\n",
    "    if (doors[choice] == 'car'): #switcher loses!\n",
    "        if(choice == 0):\n",
    "            doors.pop(choice+1)\n",
    "        elif(choice == 2):\n",
    "            doors.pop(choice-1)\n",
    "        else:\n",
    "            doors.pop(choice-1)\n",
    "    else:\n",
    "\n",
    "\n",
    "    else:   #switcher wins because the opened door is goat and the chosen door was a goat so the switch is automatically car!\n",
    "        switcher.append('car')\n",
    "    \n",
    "    goat_position = np.where(doors == 'goat')\n",
    "    for j in range(len(goat_position)):\n",
    "        #if(goat_position[j] != choice):\n",
    "        #    doors.pop(goat_position(j))\n",
    "        #elif(j+1 <= len(goat_position)):\n",
    "        #    doors.pop(goat_position(j+1))\n",
    "        #elif(j-1 >= 0):\n",
    "        #    doors.pop(goat_position(j-1))\n",
    "    #newcomer.append(np.random.choice(doors))\n",
    "        print(goat_position[j])\n",
    "    \n",
    "\n",
    "\n",
    "colors = ['red', 'green', 'blue']\n",
    "labels = ['keeper', 'switcher', 'newcomer']\n",
    "\n",
    "plt.hist([keeper, switcher, newcomer], color=colors, label=labels)\n",
    "plt.legend()\n",
    "\n",
    "\n",
    "\n"
   ]
  },
  {
   "cell_type": "code",
   "execution_count": null,
   "metadata": {},
   "outputs": [],
   "source": []
  }
 ],
 "metadata": {
  "kernelspec": {
   "display_name": "Python 3",
   "language": "python",
   "name": "python3"
  },
  "language_info": {
   "codemirror_mode": {
    "name": "ipython",
    "version": 3
   },
   "file_extension": ".py",
   "mimetype": "text/x-python",
   "name": "python",
   "nbconvert_exporter": "python",
   "pygments_lexer": "ipython3",
   "version": "3.9.7"
  },
  "orig_nbformat": 4,
  "vscode": {
   "interpreter": {
    "hash": "aee8b7b246df8f9039afb4144a1f6fd8d2ca17a180786b69acc140d282b71a49"
   }
  }
 },
 "nbformat": 4,
 "nbformat_minor": 2
}
