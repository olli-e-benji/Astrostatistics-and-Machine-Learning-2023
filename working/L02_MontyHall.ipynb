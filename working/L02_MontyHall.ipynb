{
 "cells": [
  {
   "attachments": {},
   "cell_type": "markdown",
   "metadata": {},
   "source": [
    "# Monty Hall Implementation"
   ]
  },
  {
   "cell_type": "code",
   "execution_count": 5,
   "metadata": {},
   "outputs": [],
   "source": [
    "import numpy as np\n",
    "import matplotlib.pyplot as plt"
   ]
  },
  {
   "cell_type": "code",
   "execution_count": 6,
   "metadata": {},
   "outputs": [],
   "source": [
    "def fill_doors(doors, number):    #Filling the doors with n-1 goats and 1 car for a given n\n",
    "    for i in range (0, (number-1)):\n",
    "        doors.append('goat')\n",
    "    doors.append('car')\n",
    "    np.random.shuffle(doors)\n",
    "\n",
    "    return doors"
   ]
  },
  {
   "cell_type": "code",
   "execution_count": 17,
   "metadata": {},
   "outputs": [
    {
     "data": {
      "text/plain": [
       "<matplotlib.legend.Legend at 0x7fe599a7b5b0>"
      ]
     },
     "execution_count": 17,
     "metadata": {},
     "output_type": "execute_result"
    },
    {
     "data": {
      "image/png": "[encoded data removed]",
      "text/plain": [
       "<Figure size 432x288 with 1 Axes>"
      ]
     },
     "metadata": {
      "needs_background": "light"
     },
     "output_type": "display_data"
    }
   ],
   "source": [
    "doors, keeper, switcher, newcomer = [], [], [], []\n",
    "\n",
    "low = 0\n",
    "high = 2\n",
    "\n",
    "iterate = 10\n",
    "\n",
    "for i in range(0, iterate):\n",
    "\n",
    "    doors = fill_doors(doors, high)\n",
    "    choice = np.random.randint(low, high)\n",
    "\n",
    "    #Keeper\n",
    "    keeper.append(doors[choice])\n",
    "\n",
    "    #Switcher\n",
    "    if(doors[choice] == 'car'):                 #Switcher will switch, hence losing\n",
    "        switcher.append('goat')\n",
    "    else:\n",
    "        switcher.append('goat')                  #Switcher will switch from goat to car, winning\n",
    "\n",
    "    #Newcomer\n",
    "    doors.clear()\n",
    "    doors = fill_doors(doors, (high-1))\n",
    "    newcomer_choice = np.random.randint(low, (high-1))\n",
    "    newcomer.append(doors[newcomer_choice])      #Newcomer doesn't have prior knowledge, he will always choose car with 50% probability\n",
    "\n",
    "\n",
    "\n",
    "colors = ['red', 'green', 'blue']\n",
    "labels = ['keeper', 'switcher', 'newcomer']\n",
    "\n",
    "plt.title(\"Win rates for {number} doors\")\n",
    "plt.hist([keeper, switcher, newcomer], color=colors, label=labels)\n",
    "plt.legend()\n",
    "\n",
    "\n",
    "\n"
   ]
  },
  {
   "cell_type": "code",
   "execution_count": null,
   "metadata": {},
   "outputs": [],
   "source": []
  }
 ],
 "metadata": {
  "kernelspec": {
   "display_name": "Python 3",
   "language": "python",
   "name": "python3"
  },
  "language_info": {
   "codemirror_mode": {
    "name": "ipython",
    "version": 3
   },
   "file_extension": ".py",
   "mimetype": "text/x-python",
   "name": "python",
   "nbconvert_exporter": "python",
   "pygments_lexer": "ipython3",
   "version": "3.9.7"
  },
  "orig_nbformat": 4,
  "vscode": {
   "interpreter": {
    "hash": "aee8b7b246df8f9039afb4144a1f6fd8d2ca17a180786b69acc140d282b71a49"
   }
  }
 },
 "nbformat": 4,
 "nbformat_minor": 2
}
