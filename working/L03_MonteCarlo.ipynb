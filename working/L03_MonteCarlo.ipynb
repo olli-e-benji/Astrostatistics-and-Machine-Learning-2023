{
 "cells": [
  {
   "attachments": {},
   "cell_type": "markdown",
   "metadata": {},
   "source": [
    "# MonteCarlo Integration"
   ]
  },
  {
   "attachments": {},
   "cell_type": "markdown",
   "metadata": {},
   "source": [
    "$$ \\int_0^\\infty x^3 \\exp\\left(-\\frac{x^2}{2\\sigma^2}\\right) \\,dx = 2\\sigma^4 .$$"
   ]
  },
  {
   "cell_type": "code",
   "execution_count": null,
   "metadata": {},
   "outputs": [],
   "source": [
    "import numpy as np\n",
    "import matplotlib.pyplot as plt\n",
    "import scipy.stats as stats"
   ]
  },
  {
   "cell_type": "code",
   "execution_count": null,
   "metadata": {},
   "outputs": [],
   "source": [
    "sigma = 2\n",
    "N = 10000\n",
    "\n",
    "#Choosing p(x) as the quasi-gaussian in the integral is clearly the smarter choice\n",
    "p_of_x = stats.norm(0, sigma)\n",
    "\n",
    "#Integral goes from 0 to infinity -> Sampling the whole gaussian and then taking the absolute value\n",
    "samples = np.abs(p_of_x.rvs(N))\n",
    "\n",
    "y = samples.copy()\n",
    "\n",
    "#MonteCarlo iteration\n",
    "integral = sigma * (np.pi/2)**0.5 * np.mean(y**3)\n",
    "\n",
    "#Known result\n",
    "convergence = 2 * sigma**4\n",
    "\n",
    "#Percentual divergence from analytical and numerical result\n",
    "divergence = np.abs((integral - convergence)/convergence) * 100\n",
    "\n",
    "print('MonteCarlo result: {}.\\nConvergence result: {}.\\nThe results differ by {}%'.format(integral, convergence, divergence))"
   ]
  },
  {
   "cell_type": "code",
   "execution_count": null,
   "metadata": {},
   "outputs": [],
   "source": [
    "#Trying to mix things up by verifying that the relation holds for any sigma\n",
    "\n",
    "sigma = np.linspace(1, 4, 12)\n",
    "N = 10000\n",
    "\n",
    "for i in range(len(sigma)):\n",
    "    p_of_x = stats.norm(0, sigma[i])\n",
    "    samples = np.abs(p_of_x.rvs(N))\n",
    "    y = samples.copy()\n",
    "\n",
    "    integral = sigma[i] * (np.pi/2)**0.5 * np.mean(y**3)\n",
    "    convergence = 2 * sigma[i]**4\n",
    "    \n",
    "    divergence = np.abs((integral - convergence)/convergence) * 100\n",
    "\n",
    "    print('MonteCarlo result: {}.\\nConvergence result: {}.\\nThe results differ by {}%.\\n'.format(integral, convergence, divergence))"
   ]
  }
 ],
 "metadata": {
  "kernelspec": {
   "display_name": "Python 3",
   "language": "python",
   "name": "python3"
  },
  "language_info": {
   "codemirror_mode": {
    "name": "ipython",
    "version": 3
   },
   "file_extension": ".py",
   "mimetype": "text/x-python",
   "name": "python",
   "nbconvert_exporter": "python",
   "pygments_lexer": "ipython3",
   "version": "3.9.7"
  },
  "orig_nbformat": 4,
  "vscode": {
   "interpreter": {
    "hash": "aee8b7b246df8f9039afb4144a1f6fd8d2ca17a180786b69acc140d282b71a49"
   }
  }
 },
 "nbformat": 4,
 "nbformat_minor": 2
}
