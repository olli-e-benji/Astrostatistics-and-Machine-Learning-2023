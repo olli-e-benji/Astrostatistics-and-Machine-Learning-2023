{
 "cells": [
  {
   "attachments": {},
   "cell_type": "markdown",
   "metadata": {},
   "source": [
    "# MonteCarlo Integration"
   ]
  },
  {
   "attachments": {},
   "cell_type": "markdown",
   "metadata": {},
   "source": [
    "### Work in progress!!!"
   ]
  },
  {
   "cell_type": "code",
   "execution_count": 2,
   "metadata": {},
   "outputs": [],
   "source": [
    "import numpy as np\n",
    "import matplotlib.pyplot as plt\n",
    "import scipy.stats as stats\n"
   ]
  },
  {
   "cell_type": "code",
   "execution_count": 5,
   "metadata": {},
   "outputs": [
    {
     "name": "stdout",
     "output_type": "stream",
     "text": [
      "Integral =  0.3971788468908606  and convergence =  0.19947114020071635\n",
      "Integral =  0.8095976155112992  and convergence =  1.5957691216057308\n",
      "Integral =  1.998491624173992  and convergence =  24.933892525089544\n",
      "Integral =  3.199002688299397  and convergence =  102.12922378276677\n",
      "Integral =  7.887785370288609  and convergence =  1595.7691216057308\n"
     ]
    }
   ],
   "source": [
    "sigma = np.array([0.5, 1, 2.5, 4, 10])\n",
    "\n",
    "N = 10000\n",
    "\n",
    "for i in range (len(sigma)):\n",
    "    p_of_x = stats.norm(0, sigma[i])\n",
    "    samples = np.abs(p_of_x.rvs(N))\n",
    "\n",
    "    y = samples.copy()\n",
    "\n",
    "    y**3\n",
    "\n",
    "    result = np.mean(y)\n",
    "    \n",
    "    I = 2*np.sqrt((2/np.pi)) * (sigma[i]**3)\n",
    "\n",
    "    print('Integral = ', result, ' and convergence = ', I)"
   ]
  },
  {
   "cell_type": "code",
   "execution_count": null,
   "metadata": {},
   "outputs": [],
   "source": []
  }
 ],
 "metadata": {
  "kernelspec": {
   "display_name": "Python 3",
   "language": "python",
   "name": "python3"
  },
  "language_info": {
   "codemirror_mode": {
    "name": "ipython",
    "version": 3
   },
   "file_extension": ".py",
   "mimetype": "text/x-python",
   "name": "python",
   "nbconvert_exporter": "python",
   "pygments_lexer": "ipython3",
   "version": "3.9.7"
  },
  "orig_nbformat": 4,
  "vscode": {
   "interpreter": {
    "hash": "aee8b7b246df8f9039afb4144a1f6fd8d2ca17a180786b69acc140d282b71a49"
   }
  }
 },
 "nbformat": 4,
 "nbformat_minor": 2
}
