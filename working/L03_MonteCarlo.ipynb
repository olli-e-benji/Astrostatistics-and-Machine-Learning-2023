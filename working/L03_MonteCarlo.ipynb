{
 "cells": [
  {
   "attachments": {},
   "cell_type": "markdown",
   "metadata": {},
   "source": [
    "# MonteCarlo Integration"
   ]
  },
  {
   "attachments": {},
   "cell_type": "markdown",
   "metadata": {},
   "source": [
    "$$ \\int_0^\\infty x^3 \\exp\\left(-\\frac{x^2}{2\\sigma^2}\\right) \\,dx = 2\\sigma^4 .$$"
   ]
  },
  {
   "cell_type": "code",
   "execution_count": 1,
   "metadata": {},
   "outputs": [],
   "source": [
    "import numpy as np\n",
    "import matplotlib.pyplot as plt\n",
    "import scipy.stats as stats"
   ]
  },
  {
   "cell_type": "code",
   "execution_count": 10,
   "metadata": {},
   "outputs": [
    {
     "name": "stdout",
     "output_type": "stream",
     "text": [
      "MonteCarlo result: 32.361.\n",
      "Convergence result: 32.\n",
      "The results differ by 1.127%\n"
     ]
    }
   ],
   "source": [
    "sigma = 2\n",
    "N = 10000\n",
    "\n",
    "#Choosing p(x) as the quasi-gaussian in the integral is clearly the smarter choice\n",
    "p_of_x = stats.norm(0, sigma)\n",
    "\n",
    "#Integral goes from 0 to infinity -> Sampling the whole gaussian and then taking the absolute value\n",
    "samples = np.abs(p_of_x.rvs(N))\n",
    "\n",
    "y = samples.copy()\n",
    "\n",
    "#MonteCarlo iteration\n",
    "integral = sigma * (np.pi/2)**0.5 * np.mean(y**3)\n",
    "\n",
    "#Known result\n",
    "convergence = 2 * sigma**4\n",
    "\n",
    "#Percentual divergence from analytical and numerical result\n",
    "divergence = np.abs((integral - convergence)/convergence) * 100\n",
    "\n",
    "print('MonteCarlo result: {:.3f}.\\nConvergence result: {}.\\nThe results differ by {:.3f}%'.format(integral, convergence, divergence))"
   ]
  },
  {
   "cell_type": "code",
   "execution_count": 12,
   "metadata": {},
   "outputs": [
    {
     "name": "stdout",
     "output_type": "stream",
     "text": [
      "MonteCarlo result: 1.967.\n",
      "Convergence result: 2.000.\n",
      "The results differ by 1.633%.\n",
      "\n",
      "MonteCarlo result: 5.115.\n",
      "Convergence result: 5.248.\n",
      "The results differ by 2.535%.\n",
      "\n",
      "MonteCarlo result: 11.295.\n",
      "Convergence result: 11.409.\n",
      "The results differ by 1.001%.\n",
      "\n",
      "MonteCarlo result: 21.955.\n",
      "Convergence result: 21.856.\n",
      "The results differ by 0.450%.\n",
      "\n",
      "MonteCarlo result: 39.131.\n",
      "Convergence result: 38.227.\n",
      "The results differ by 2.364%.\n",
      "\n",
      "MonteCarlo result: 60.508.\n",
      "Convergence result: 62.424.\n",
      "The results differ by 3.069%.\n",
      "\n",
      "MonteCarlo result: 98.149.\n",
      "Convergence result: 96.616.\n",
      "The results differ by 1.586%.\n",
      "\n",
      "MonteCarlo result: 141.420.\n",
      "Convergence result: 143.238.\n",
      "The results differ by 1.269%.\n",
      "\n",
      "MonteCarlo result: 203.052.\n",
      "Convergence result: 204.989.\n",
      "The results differ by 0.945%.\n",
      "\n",
      "MonteCarlo result: 279.916.\n",
      "Convergence result: 284.835.\n",
      "The results differ by 1.727%.\n",
      "\n",
      "MonteCarlo result: 381.495.\n",
      "Convergence result: 386.007.\n",
      "The results differ by 1.169%.\n",
      "\n",
      "MonteCarlo result: 522.302.\n",
      "Convergence result: 512.000.\n",
      "The results differ by 2.012%.\n",
      "\n"
     ]
    }
   ],
   "source": [
    "#Trying to mix things up by verifying that the relation holds for any sigma\n",
    "\n",
    "sigma = np.linspace(1, 4, 12)\n",
    "N = 10000\n",
    "\n",
    "for i in range(len(sigma)):\n",
    "    p_of_x = stats.norm(0, sigma[i])\n",
    "    samples = np.abs(p_of_x.rvs(N))\n",
    "    y = samples.copy()\n",
    "\n",
    "    integral = sigma[i] * (np.pi/2)**0.5 * np.mean(y**3)\n",
    "    convergence = 2 * sigma[i]**4\n",
    "    \n",
    "    divergence = np.abs((integral - convergence)/convergence) * 100\n",
    "\n",
    "    print('MonteCarlo result: {:.3f}.\\nConvergence result: {:.3f}.\\nThe results differ by {:.3f}%.\\n'.format(integral, convergence, divergence))"
   ]
  },
  {
   "cell_type": "code",
   "execution_count": null,
   "metadata": {},
   "outputs": [],
   "source": []
  }
 ],
 "metadata": {
  "kernelspec": {
   "display_name": "Python 3",
   "language": "python",
   "name": "python3"
  },
  "language_info": {
   "codemirror_mode": {
    "name": "ipython",
    "version": 3
   },
   "file_extension": ".py",
   "mimetype": "text/x-python",
   "name": "python",
   "nbconvert_exporter": "python",
   "pygments_lexer": "ipython3",
   "version": "3.9.7"
  },
  "orig_nbformat": 4,
  "vscode": {
   "interpreter": {
    "hash": "aee8b7b246df8f9039afb4144a1f6fd8d2ca17a180786b69acc140d282b71a49"
   }
  }
 },
 "nbformat": 4,
 "nbformat_minor": 2
}
